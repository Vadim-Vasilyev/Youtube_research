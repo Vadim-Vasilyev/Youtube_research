{
 "cells": [
  {
   "cell_type": "code",
   "execution_count": 6,
   "id": "02b665d4-7fa8-4332-b9b9-bb7928510ca8",
   "metadata": {},
   "outputs": [
    {
     "name": "stdout",
     "output_type": "stream",
     "text": [
      "The autoreload extension is already loaded. To reload it, use:\n",
      "  %reload_ext autoreload\n"
     ]
    }
   ],
   "source": [
    "%load_ext autoreload\n",
    "%autoreload 2"
   ]
  },
  {
   "cell_type": "code",
   "execution_count": 7,
   "id": "10061d6d-c3bb-4441-9c93-f12be36fb927",
   "metadata": {},
   "outputs": [],
   "source": [
    "from ParserDB import ParserDB"
   ]
  },
  {
   "cell_type": "code",
   "execution_count": 11,
   "id": "41ae6a0b-72ef-4559-bce4-9d7ec356e96d",
   "metadata": {},
   "outputs": [],
   "source": [
    "parser = ParserDB(api_key_file=\"./data/data_json/api_token.txt\", database=\"./data/data.db\")"
   ]
  },
  {
   "cell_type": "code",
   "execution_count": 26,
   "id": "eb664942-e494-4f7b-a4ce-c8cae4cfb1f1",
   "metadata": {
    "scrolled": true
   },
   "outputs": [],
   "source": [
    "parser.parse_videos(\"теория плоской земли\", 200)"
   ]
  },
  {
   "cell_type": "code",
   "execution_count": 27,
   "id": "26a23edf-fc9a-421b-b6ab-1fa2351d387b",
   "metadata": {
    "scrolled": true
   },
   "outputs": [
    {
     "name": "stdout",
     "output_type": "stream",
     "text": [
      "Query 'теория плоской земли', videoId s2ubr5DiGwo, 3 comments\n",
      "Query 'теория плоской земли', videoId TQ5iOTduI2s, 317 comments\n",
      "Query 'теория плоской земли', videoId c2dk-WqPgoQ, 0 comments\n",
      "Query 'теория плоской земли', videoId 5y73llEUcXQ, 365 comments\n",
      "Query 'теория плоской земли', videoId mfKRGip43bQ, 46 comments\n",
      "Query 'теория плоской земли', videoId yLA9TitrGY4, 7 comments\n",
      "Query 'теория плоской земли', videoId S85KW0K3IqQ, 41 comments\n",
      "Query 'теория плоской земли', videoId U6nitUR0-tE, 26 comments\n",
      "Query 'теория плоской земли', videoId WgB6wB8T9KE, 7 comments\n",
      "Query 'теория плоской земли', videoId 0xL15n2Ws-4, 372 comments\n",
      "Query 'теория плоской земли', videoId V_a24Sfo6D0, 0 comments\n",
      "Query 'теория плоской земли', videoId _Rzl6CSJgBw, 2 comments\n",
      "Query 'теория плоской земли', videoId lgfOBx_xtgo, 2 comments\n",
      "Query 'теория плоской земли', videoId YSqWGqLU710, 0 comments\n",
      "Query 'теория плоской земли', videoId ekbfhQDPvJ4, 219 comments\n",
      "Query 'теория плоской земли', videoId 7vnR9f-pgVM, 33 comments\n",
      "Query 'теория плоской земли', videoId g0fD4cXSMWU, 0 comments\n",
      "Query 'теория плоской земли', videoId NNvjUca07jI, 10 comments\n",
      "Query 'теория плоской земли', videoId -_pY2TAT-ag, 3 comments\n",
      "Query 'теория плоской земли', videoId BlfK4QzS5pY, 3 comments\n",
      "Query 'теория плоской земли', videoId gYrPkkOHjBA, 783 comments\n",
      "Query 'теория плоской земли', videoId QfMQz2MFBjI, 2 comments\n",
      "Query 'теория плоской земли', videoId _oIKGEomVZE, 0 comments\n",
      "Query 'теория плоской земли', videoId 4vwbSlHv0UI, 72 comments\n",
      "Query 'теория плоской земли', videoId JiOFUKzBAWY, 2 comments\n",
      "Query 'теория плоской земли', videoId aQs59CUpch0, 17 comments\n",
      "Query 'теория плоской земли', videoId sIZD0LVKeXE, 14 comments\n",
      "Query 'теория плоской земли', videoId Zm-8oQZJkQ8, 9 comments\n",
      "Query 'теория плоской земли', videoId 9w_SVpz9dMI, 0 comments\n",
      "Query 'теория плоской земли', videoId eGTKUQ6pG_o, 0 comments\n",
      "Query 'теория плоской земли', videoId w-nbWFzDu_4, 1 comments\n",
      "Query 'теория плоской земли', videoId dRW9kOg_12Y, 102 comments\n",
      "Query 'теория плоской земли', videoId rQ04I4ENXVg, 4 comments\n",
      "Query 'теория плоской земли', videoId TKa7LK1Scy8, 0 comments\n",
      "Query 'теория плоской земли', videoId im_-R1-1enE, 11 comments\n",
      "Query 'теория плоской земли', videoId jn3Kb64uKTY, 694 comments\n",
      "Query 'теория плоской земли', videoId Fs4pKmkzHhw, 2 comments\n",
      "Query 'теория плоской земли', videoId AyvXQBi1kL0, 1169 comments\n",
      "Query 'теория плоской земли', videoId QAEnZeEXD10, 216 comments\n",
      "Query 'теория плоской земли', videoId 1V2z7zts3U8, 0 comments\n",
      "Query 'теория плоской земли', videoId 1-srx-dXEh4, 1 comments\n",
      "Query 'теория плоской земли', videoId KOHg06y4_OA, 3 comments\n",
      "Query 'теория плоской земли', videoId ovheo2pUEkg, 713 comments\n",
      "Query 'теория плоской земли', videoId lyaKK-Q-NvQ, 634 comments\n",
      "Query 'теория плоской земли', videoId ay1yo39L0Mo, 0 comments\n",
      "Query 'теория плоской земли', videoId FP8CT03PCwc, 7 comments\n",
      "Query 'теория плоской земли', videoId SiI-HznGlko, 5 comments\n",
      "Query 'теория плоской земли', videoId UPEi-sX_TCg, 0 comments\n",
      "Query 'теория плоской земли', videoId rFUDYLLlbqc, 1 comments\n",
      "Query 'теория плоской земли', videoId Ob2iwUaYuKQ, 122 comments\n",
      "Query 'теория плоской земли', videoId 8NijFmIHQCw, 18 comments\n",
      "Query 'теория плоской земли', videoId NJNyIumVcyM, 0 comments\n",
      "Query 'теория плоской земли', videoId 8Hw42E-FfIY, 481 comments\n",
      "Query 'теория плоской земли', videoId WifKUAYsgwg, 0 comments\n",
      "Query 'теория плоской земли', videoId _m8MlUhg1sY, 967 comments\n",
      "Query 'теория плоской земли', videoId 5MjvAAwS3Q8, 0 comments\n",
      "Query 'теория плоской земли', videoId T_rtl3pE89w, 111 comments\n",
      "Query 'теория плоской земли', videoId XwbWUqseU-g, 2 comments\n",
      "Query 'теория плоской земли', videoId 2F9WpCEk6uA, 0 comments\n",
      "Query 'теория плоской земли', videoId 06m3OxMqSh8, 19 comments\n",
      "Query 'теория плоской земли', videoId UmAwWaf74Ck, 3 comments\n",
      "Query 'теория плоской земли', videoId sDzKAOtePvA, 1 comments\n",
      "Query 'теория плоской земли', videoId jcgfyhAvkXg, 7 comments\n",
      "Query 'теория плоской земли', videoId s-2osY491ro, 1 comments\n",
      "Query 'теория плоской земли', videoId PFqjU1UNiuI, 5 comments\n",
      "Query 'теория плоской земли', videoId z5PHz-oF2o8, 0 comments\n",
      "Query 'теория плоской земли', videoId It9BDGHQ87Y, 0 comments\n",
      "Query 'теория плоской земли', videoId wFplB44RDJc, 588 comments\n",
      "Query 'теория плоской земли', videoId 8oCLOQ-0iUA, 5 comments\n",
      "Query 'теория плоской земли', videoId 86w9q16lUJg, 4 comments\n",
      "Query 'теория плоской земли', videoId QG27JlXAl44, 1 comments\n",
      "Query 'теория плоской земли', videoId ATm2zOa22YA, 27 comments\n",
      "Query 'теория плоской земли', videoId o5Own6wdQx0, 0 comments\n",
      "Query 'теория плоской земли', videoId 9DhmN3aEvsQ, 26 comments\n",
      "Query 'теория плоской земли', videoId m6HrJHvpm0g, 2 comments\n",
      "Query 'теория плоской земли', videoId JJ1t81Olwq0, 37 comments\n",
      "Query 'теория плоской земли', videoId p8oIx7GgCi4, 3 comments\n",
      "Query 'теория плоской земли', videoId TMrLrjoXbkM, 15 comments\n",
      "Query 'теория плоской земли', videoId w7FY2uT_5iU, 0 comments\n",
      "Query 'теория плоской земли', videoId f-jUdPAdo5o, 6 comments\n",
      "Query 'теория плоской земли', videoId szu2Sa3noOs, 10 comments\n",
      "Query 'теория плоской земли', videoId hFzzB5BsBYg, 6 comments\n",
      "Query 'теория плоской земли', videoId WqTf15XB8Bo, 1 comments\n",
      "Query 'теория плоской земли', videoId t0hjrAgb5ts, 21 comments\n",
      "Query 'теория плоской земли', videoId StvK_434GYE, 342 comments\n",
      "Query 'теория плоской земли', videoId zyUnle2VSg0, 0 comments\n",
      "Query 'теория плоской земли', videoId HSDbXrkKAEY, 0 comments\n",
      "Query 'теория плоской земли', videoId JBJf3Crt5wc, 0 comments\n",
      "Query 'теория плоской земли', videoId WM6gklrF_7w, 8 comments\n",
      "Query 'теория плоской земли', videoId _s2KcjvPOf8, 1 comments\n",
      "Query 'теория плоской земли', videoId ix-R84xIRLo, 39 comments\n",
      "Query 'теория плоской земли', videoId XZgWWDZWMsc, 20 comments\n",
      "Query 'теория плоской земли', videoId xi7qZinhaAI, 0 comments\n",
      "Query 'теория плоской земли', videoId cbP0fh627H4, 380 comments\n",
      "Query 'теория плоской земли', videoId unict38O5d4, 0 comments\n",
      "Query 'теория плоской земли', videoId f032NAj_EA0, 22 comments\n",
      "Query 'теория плоской земли', videoId atgG8L_3Ak8, 0 comments\n",
      "Query 'теория плоской земли', videoId bQGNQZKHEeM, 32 comments\n",
      "Query 'теория плоской земли', videoId 0eIE2TjI3vs, 661 comments\n",
      "Query 'теория плоской земли', videoId kujEfUAz8O4, 746 comments\n",
      "Query 'теория плоской земли', videoId EKEhlszeibk, 90 comments\n",
      "Query 'теория плоской земли', videoId vu-PlcgqNQ8, 155 comments\n",
      "Query 'теория плоской земли', videoId -myyAOQwLzo, 115 comments\n",
      "Query 'теория плоской земли', videoId CYVFn-7yoBs, 90 comments\n",
      "Query 'теория плоской земли', videoId beFg8LutSAQ, 0 comments\n",
      "Query 'теория плоской земли', videoId 3G1Bl2V6etA, 3 comments\n",
      "Query 'теория плоской земли', videoId DHTu5pG61Ag, 1 comments\n",
      "Query 'теория плоской земли', videoId 3BNYlFZRTnU, 1 comments\n",
      "Query 'теория плоской земли', videoId 22ZsBRieqW4, 0 comments\n",
      "Query 'теория плоской земли', videoId dYAJXdvqHm4, 133 comments\n",
      "Query 'теория плоской земли', videoId EtnMb3W5OE0, 23 comments\n",
      "Query 'теория плоской земли', videoId nP-5-7IluGQ, 753 comments\n",
      "Query 'теория плоской земли', videoId Qkw-1SrDk8s, 934 comments\n",
      "Query 'теория плоской земли', videoId W4Oo2VozcaM, 0 comments\n",
      "Query 'теория плоской земли', videoId 8uuflQ_Qox8, 200 comments\n",
      "Query 'теория плоской земли', videoId eiH6sQdoGpg, 2 comments\n",
      "Query 'теория плоской земли', videoId kZJXtQ987lI, 73 comments\n",
      "Query 'теория плоской земли', videoId 9EZXpv4ykeY, 0 comments\n",
      "Query 'теория плоской земли', videoId qxoTfbaUqc8, 92 comments\n",
      "Query 'теория плоской земли', videoId ukkqZdjobXQ, 20 comments\n",
      "Query 'теория плоской земли', videoId 7HC68MKxvdA, 0 comments\n",
      "Query 'теория плоской земли', videoId 24P7_o84ZNc, 11 comments\n",
      "Query 'теория плоской земли', videoId Bw3zWznB-cY, 0 comments\n",
      "Query 'теория плоской земли', videoId cj2f-j-7WLQ, 0 comments\n",
      "Query 'теория плоской земли', videoId 5o1dbhqJYRI, 662 comments\n",
      "Query 'теория плоской земли', videoId pruELR176Dk, 2 comments\n",
      "Query 'теория плоской земли', videoId XRI8S2M5kD4, 1 comments\n",
      "Query 'теория плоской земли', videoId O69GNzZN0rY, 1 comments\n",
      "Query 'теория плоской земли', videoId waH9O4GQHsg, 27 comments\n",
      "Query 'теория плоской земли', videoId M40gkaLxbZ8, 229 comments\n",
      "Query 'теория плоской земли', videoId c5yDv6RsltA, 0 comments\n",
      "Query 'теория плоской земли', videoId 9pvTBAWCcAI, 1 comments\n",
      "Query 'теория плоской земли', videoId 6LmiFXIySoc, 2 comments\n",
      "Query 'теория плоской земли', videoId I5Jir-5RPEE, 1 comments\n",
      "Query 'теория плоской земли', videoId mTTKfo2cpZ0, 0 comments\n",
      "Query 'теория плоской земли', videoId fxayw8puvR4, 75 comments\n",
      "Query 'теория плоской земли', videoId TIogHpxg1aQ, 0 comments\n",
      "Query 'теория плоской земли', videoId Xxt85Itl6nY, 1 comments\n",
      "Query 'теория плоской земли', videoId WxKfpvqZfiU, 79 comments\n",
      "Query 'теория плоской земли', videoId pId_ALXnjww, 0 comments\n",
      "Query 'теория плоской земли', videoId kWPrSK7jxmI, 1 comments\n",
      "Query 'теория плоской земли', videoId 5dtWkKW1cgo, 0 comments\n",
      "Query 'теория плоской земли', videoId oUR3dsasLI8, 31 comments\n",
      "Query 'теория плоской земли', videoId tYhqB8VSdqw, 0 comments\n",
      "Query 'теория плоской земли', videoId Nk-lwwnyKkU, 1 comments\n",
      "Query 'теория плоской земли', videoId ASARtBVda1U, 905 comments\n"
     ]
    }
   ],
   "source": [
    "parser.parse_comments(query=\"теория плоской земли\", max_videos=200, verbose=True)"
   ]
  },
  {
   "cell_type": "code",
   "execution_count": 33,
   "id": "5f84b7f4-a723-48fa-8870-239c8024983b",
   "metadata": {},
   "outputs": [
    {
     "data": {
      "text/plain": [
       "[(233,)]"
      ]
     },
     "execution_count": 33,
     "metadata": {},
     "output_type": "execute_result"
    }
   ],
   "source": [
    "parser.cursor.execute(\"SELECT COUNT(*) FROM Videos WHERE query = 'теория плоской земли' AND commentsParsed\")\n",
    "parser.cursor.fetchall()"
   ]
  },
  {
   "cell_type": "code",
   "execution_count": 34,
   "id": "5aa14861-9624-495e-8bce-f893965a7394",
   "metadata": {},
   "outputs": [
    {
     "data": {
      "text/plain": [
       "[('коронавирус прививки', 18204),\n",
       " ('новая хронология', 25247),\n",
       " ('теория плоской земли', 156210),\n",
       " ('химтрейлы', 33804)]"
      ]
     },
     "execution_count": 34,
     "metadata": {},
     "output_type": "execute_result"
    }
   ],
   "source": [
    "parser.describe()"
   ]
  },
  {
   "cell_type": "code",
   "execution_count": 13,
   "id": "18f3e96d-b68c-43ca-8e21-67b8a2e7d22f",
   "metadata": {},
   "outputs": [],
   "source": [
    "p.comments_to_csv(query=\"химтрейлы\", output_file=\"./data/comments_chemtrail.csv\")"
   ]
  }
 ],
 "metadata": {
  "kernelspec": {
   "display_name": "Python 3 (ipykernel)",
   "language": "python",
   "name": "python3"
  },
  "language_info": {
   "codemirror_mode": {
    "name": "ipython",
    "version": 3
   },
   "file_extension": ".py",
   "mimetype": "text/x-python",
   "name": "python",
   "nbconvert_exporter": "python",
   "pygments_lexer": "ipython3",
   "version": "3.12.6"
  }
 },
 "nbformat": 4,
 "nbformat_minor": 5
}
