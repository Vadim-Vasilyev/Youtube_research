{
 "cells": [
  {
   "cell_type": "code",
   "execution_count": 6,
   "id": "02b665d4-7fa8-4332-b9b9-bb7928510ca8",
   "metadata": {},
   "outputs": [
    {
     "name": "stdout",
     "output_type": "stream",
     "text": [
      "The autoreload extension is already loaded. To reload it, use:\n",
      "  %reload_ext autoreload\n"
     ]
    }
   ],
   "source": [
    "%load_ext autoreload\n",
    "%autoreload 2"
   ]
  },
  {
   "cell_type": "code",
   "execution_count": 7,
   "id": "10061d6d-c3bb-4441-9c93-f12be36fb927",
   "metadata": {},
   "outputs": [],
   "source": [
    "from ParserDB import ParserDB"
   ]
  },
  {
   "cell_type": "code",
   "execution_count": 11,
   "id": "41ae6a0b-72ef-4559-bce4-9d7ec356e96d",
   "metadata": {},
   "outputs": [],
   "source": [
    "parser = ParserDB(api_key_file=\"./data/data_json/api_token.txt\", database=\"./data/data.db\")"
   ]
  },
  {
   "cell_type": "code",
   "execution_count": null,
   "id": "eb664942-e494-4f7b-a4ce-c8cae4cfb1f1",
   "metadata": {
    "scrolled": true
   },
   "outputs": [],
   "source": [
    "parser.parse_videos(\"теория плоской земли\", 200)"
   ]
  },
  {
   "cell_type": "code",
   "execution_count": null,
   "id": "26a23edf-fc9a-421b-b6ab-1fa2351d387b",
   "metadata": {
    "scrolled": true
   },
   "outputs": [],
   "source": [
    "parser.parse_comments(query=\"теория плоской земли\", max_videos=200, verbose=True)"
   ]
  },
  {
   "cell_type": "code",
   "execution_count": 33,
   "id": "5f84b7f4-a723-48fa-8870-239c8024983b",
   "metadata": {},
   "outputs": [
    {
     "data": {
      "text/plain": [
       "[(233,)]"
      ]
     },
     "execution_count": 33,
     "metadata": {},
     "output_type": "execute_result"
    }
   ],
   "source": [
    "parser.cursor.execute(\"SELECT COUNT(*) FROM Videos WHERE query = 'теория плоской земли' AND commentsParsed\")\n",
    "parser.cursor.fetchall()"
   ]
  },
  {
   "cell_type": "code",
   "execution_count": 34,
   "id": "5aa14861-9624-495e-8bce-f893965a7394",
   "metadata": {},
   "outputs": [
    {
     "data": {
      "text/plain": [
       "[('коронавирус прививки', 18204),\n",
       " ('новая хронология', 25247),\n",
       " ('теория плоской земли', 156210),\n",
       " ('химтрейлы', 33804)]"
      ]
     },
     "execution_count": 34,
     "metadata": {},
     "output_type": "execute_result"
    }
   ],
   "source": [
    "parser.describe()"
   ]
  },
  {
   "cell_type": "code",
   "execution_count": null,
   "id": "18f3e96d-b68c-43ca-8e21-67b8a2e7d22f",
   "metadata": {},
   "outputs": [],
   "source": [
    "parser.comments_to_csv(query=\"теория плоской земли\", output_file=\"./data/comments_chemtrail.csv\")"
   ]
  },
  {
   "cell_type": "code",
   "execution_count": 55,
   "id": "cc62e66a-4c9e-4501-8cb2-5bdda576e714",
   "metadata": {},
   "outputs": [
    {
     "data": {
      "text/plain": [
       "[('Давно заметила связь этих распылений с массовыми заболеваниями верхних дыхательных путей , они ещё гасят наше сознание и волю , плюс к этому табак  , жаль многие курят , думают расслабляются ....',)]"
      ]
     },
     "execution_count": 55,
     "metadata": {},
     "output_type": "execute_result"
    }
   ],
   "source": [
    "parser.cursor.execute(\"SELECT text FROM Comments WHERE authorDisplayName = '@Надежда-ъ4м2х'\").fetchall()"
   ]
  }
 ],
 "metadata": {
  "kernelspec": {
   "display_name": "Python 3 (ipykernel)",
   "language": "python",
   "name": "python3"
  },
  "language_info": {
   "codemirror_mode": {
    "name": "ipython",
    "version": 3
   },
   "file_extension": ".py",
   "mimetype": "text/x-python",
   "name": "python",
   "nbconvert_exporter": "python",
   "pygments_lexer": "ipython3",
   "version": "3.12.6"
  }
 },
 "nbformat": 4,
 "nbformat_minor": 5
}
