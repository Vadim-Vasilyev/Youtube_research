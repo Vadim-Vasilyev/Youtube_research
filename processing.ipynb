{
 "cells": [
  {
   "cell_type": "code",
   "execution_count": 1,
   "id": "9fc78ba4-5464-4a5f-b000-f00030317aef",
   "metadata": {},
   "outputs": [],
   "source": [
    "%load_ext autoreload\n",
    "%autoreload 2"
   ]
  },
  {
   "cell_type": "code",
   "execution_count": 3,
   "id": "e59b8da6-3f2e-49d8-8e6f-4b84ab2727fa",
   "metadata": {},
   "outputs": [],
   "source": [
    "# !pip install OpenAI\n",
    "import json\n",
    "import pandas as pd\n",
    "import numpy as np\n",
    "from ParserDB import ParserDB\n",
    "\n",
    "from openai import OpenAI\n",
    "import os\n",
    "with open(\"./data/data_json/openai_token.txt\", \"r\") as f:\n",
    "    os.environ[\"OPENAI_API_KEY\"] = f.read()"
   ]
  },
  {
   "cell_type": "code",
   "execution_count": 78,
   "id": "37d886b0-fb01-44ab-a514-24e32bcbdeb9",
   "metadata": {},
   "outputs": [],
   "source": [
    "# openai structuded output\n",
    "request_format = {\n",
    "    \"format\": {\n",
    "        \"type\": \"json_schema\",\n",
    "        \"name\": \"user_stances_batch\",\n",
    "        \"strict\": True,\n",
    "        \"schema\": {\n",
    "            \"type\": \"object\",\n",
    "            \"properties\": {\n",
    "                \"threads\": {\n",
    "                    \"type\": \"array\",\n",
    "                    \"items\": {\n",
    "                        \"type\": \"object\",\n",
    "                        \"properties\": {\n",
    "                            \"threadId\": {\"type\": \"string\"},\n",
    "                            \"users\": {\n",
    "                                \"type\": \"array\",\n",
    "                                \"items\": {\n",
    "                                    \"type\": \"object\",\n",
    "                                    \"properties\": {\n",
    "                                        \"user\": {\"type\": \"string\"},\n",
    "                                        \"stance\": {\n",
    "                                            \"type\": \"string\",\n",
    "                                            \"enum\": [\"поддерживает\", \"не поддерживает\", \"невозможно сказать\"]\n",
    "                                        }\n",
    "                                    },\n",
    "                                    \"required\": [\"user\", \"stance\"],\n",
    "                                    \"additionalProperties\": False\n",
    "                                }\n",
    "                            }\n",
    "                        },\n",
    "                        \"required\": [\"threadId\", \"users\"],\n",
    "                        \"additionalProperties\": False\n",
    "                    }\n",
    "                }\n",
    "            },\n",
    "            \"required\": [\"threads\"],\n",
    "            \"additionalProperties\": False\n",
    "        }\n",
    "    }\n",
    "}\n",
    "\n",
    "# prompts for GPT-model\n",
    "request_text_chemtrails =\\\n",
    "\"\"\"Тебе дано 10 тредов комментариев на ютубе. \\\n",
    "Пользователи под видеороликами спорят о конспирологической теории химтрейлов, \\\n",
    "то есть о распылении химикатов самолётами. Противники теории считают, что это инверсионный след, а не химикаты. \\\n",
    "Ты должен для каждого пользователя каждого треда определить, поддерживает он теорию о химтрейлах, не поддерживает, \\\n",
    "или невозможно определить. Формат данных: @пользователь: текст комментария. Если в тексте комментария есть @@username, \\\n",
    "значит автор комментария отвечает какому-то юзеру. Для каждого пользователя каждого треда определи, \\\n",
    "поддерживает он теорию о химтрейлах, не поддерживает, или невозможно определить.\\\n",
    "В ответе имена пользователей начинай записывать с @, так же, как в тексте треда. \\\n",
    "Для каждого треда определяй независимо.\"\"\"\n",
    "\n",
    "request_text_newchron =\\\n",
    "\"\"\"Тебе дано 10 тредов комментариев на ютубе. \\\n",
    "Пользователи под видеороликами спорят о конспирологической теории \"Новой хронологии\" Фоменко. \\\n",
    "Это такая псевдонаучная программа пересмотра истории, оппонирующая \"официальной истории\". \\\n",
    "Ты должен для каждого пользователя каждого треда определить, поддерживает он новую хронологию, не поддерживает, \\\n",
    "или невозможно определить. Формат данных: @пользователь: текст комментария. Если в тексте комментария есть @@username, \\\n",
    "значит автор комментария отвечает какому-то юзеру. Для каждого пользователя каждого треда определи, \\\n",
    "поддерживает он новую хронологию, не поддерживает, или невозможно определить. \\\n",
    "В ответе имена пользователей начинай записывать с @, так же, как в тексте треда. \\\n",
    "Для каждого треда определяй независимо.\"\"\"\n",
    "\n",
    "request_text_flatearth =\\\n",
    "\"\"\"Тебе дано 10 тредов комментариев на ютубе. \\\n",
    "Пользователи под видеороликами спорят о конспирологической теории плоской Земли. \\\n",
    "Сторонники теории считают, что планета Земля является плоской/вогнутой/какой-то ещё, а не шарообразной, и спорят с \"официальной наукой\". \\\n",
    "Ты должен для каждого пользователя каждого треда определить, поддерживает он теорию плоской земли, не поддерживает, \\\n",
    "или невозможно определить. Формат данных: @пользователь: текст комментария. Если в тексте комментария есть @@username, \\\n",
    "значит автор комментария отвечает какому-то юзеру. Для каждого пользователя каждого треда определи, \\\n",
    "поддерживает он теорию плоской земли, не поддерживает, или невозможно определить. \\\n",
    "В ответе имена пользователей начинай записывать с @, так же, как в тексте треда. \\\n",
    "Для каждого треда определяй независимо.\"\"\""
   ]
  },
  {
   "cell_type": "code",
   "execution_count": 13,
   "id": "4c79341b-1c78-4d1c-b6ad-75714613b632",
   "metadata": {},
   "outputs": [],
   "source": [
    "p = ParserDB(api_key_file=\"./data/data_json/api_token.txt\", database=\"./data/data.db\")\n",
    "# p.comments_to_csv(\"химтрейлы\", \"./data/comments_chemtrail.csv\")\n",
    "# p.comments_to_csv(\"новая хронология\", \"./data/comments_newchron.csv\")\n",
    "# p.comments_to_csv(\"теория плоской земли\", \"./data/comments_flatearth.csv\")"
   ]
  },
  {
   "cell_type": "code",
   "execution_count": 118,
   "id": "53edfc06-856a-4c0d-9bd8-efd8436855ad",
   "metadata": {},
   "outputs": [],
   "source": [
    "def create_batches(comments_file, output_folder, prefix, request_text, request_format):\n",
    "    REQUEST_SIZE = 10 # threads in request\n",
    "    BATCH_SIZE = 7500 # requests in batch\n",
    "    \n",
    "    df = pd.read_csv(comments_file)\n",
    "    df = df[df['text'].notna()].sort_values(by=['topLevelComment', 'publishedAt'])\n",
    "    threads = df.groupby(['topLevelComment'])[[\"authorDisplayName\", \"text\"]].apply(\n",
    "        lambda g: '\\n'.join(f\"{row['authorDisplayName']}: {row['text']}\" for _, row in g.iterrows())).reset_index(name='thread')\n",
    "    batches = [threads[i:i+BATCH_SIZE] for i in range(0, len(threads), BATCH_SIZE)]\n",
    "    for i, b in enumerate(batches):\n",
    "        with open(f\"{output_folder}/{prefix}_{i+1}.jsonl\", \"w\", encoding=\"utf-8\") as f:\n",
    "            for request_index in range(0, len(b), REQUEST_SIZE):\n",
    "                chunk = b.iloc[request_index:request_index + REQUEST_SIZE]\n",
    "                combined_text = \"\\n\\n\".join(\n",
    "                    f\"Тред {row['topLevelComment']}:\\n{row['thread']}\" for _, row in chunk.iterrows()\n",
    "                )\n",
    "                request_id = f\"{(BATCH_SIZE // REQUEST_SIZE) * i + request_index // REQUEST_SIZE + 1}\"\n",
    "                \n",
    "                obj = {\n",
    "                    \"custom_id\": request_id,\n",
    "                    \"method\": \"POST\",\n",
    "                    \"url\": \"/v1/responses\",\n",
    "                    \"body\": {\n",
    "                        \"model\": \"gpt-4.1-mini\",\n",
    "                        \"input\": [\n",
    "                            {\"role\": \"system\", \"content\": request_text},\n",
    "                            {\"role\": \"user\", \"content\": combined_text}\n",
    "                        ],\n",
    "                        \"text\": request_format\n",
    "                    }\n",
    "                }\n",
    "                f.write(json.dumps(obj, ensure_ascii=False) + \"\\n\")"
   ]
  },
  {
   "cell_type": "code",
   "execution_count": 3,
   "id": "e35d83e6-05b2-44da-856b-eb9be927c6bf",
   "metadata": {},
   "outputs": [],
   "source": [
    "client = OpenAI()\n",
    "\n",
    "def batch_to_api(input_file):\n",
    "    batch_input_file = client.files.create(\n",
    "        file=open(input_file, \"rb\"),\n",
    "        purpose=\"batch\"\n",
    "    )\n",
    "    batch_input_file_id = batch_input_file.id\n",
    "    client.batches.create(\n",
    "        input_file_id=batch_input_file_id,\n",
    "        endpoint=\"/v1/responses\",\n",
    "        completion_window=\"24h\",\n",
    "        metadata={}\n",
    "    )"
   ]
  },
  {
   "cell_type": "code",
   "execution_count": 79,
   "id": "869ba07c-556c-441e-93a3-95f8158192cc",
   "metadata": {},
   "outputs": [],
   "source": [
    "create_batches(\"./data/comments_chemtrail.csv\", \"./data/openai_batches\", \"batch_chemtrails\", request_text_chemtrails, request_format)"
   ]
  },
  {
   "cell_type": "code",
   "execution_count": 80,
   "id": "7b6871bf-a7db-4c02-b084-31c1b5aa5906",
   "metadata": {},
   "outputs": [],
   "source": [
    "create_batches(\"./data/comments_newchron.csv\", \"./data/openai_batches\", \"batch_newchron\", request_text_newchron, request_format)"
   ]
  },
  {
   "cell_type": "code",
   "execution_count": 119,
   "id": "be5ec710-72b9-4ec9-a9e1-dd3c5f6a92e7",
   "metadata": {},
   "outputs": [],
   "source": [
    "create_batches(\"./data/comments_flatearth.csv\", \"./data/openai_batches\", \"batch_flatearth\", request_text_flatearth, request_format)"
   ]
  },
  {
   "cell_type": "code",
   "execution_count": 85,
   "id": "a08fcfc4-ea8f-4991-8ec3-44c5083f1f54",
   "metadata": {},
   "outputs": [],
   "source": [
    "batch_to_api(\"./data/openai_batches/batch_newchron_1.jsonl\")"
   ]
  },
  {
   "cell_type": "code",
   "execution_count": 8,
   "id": "9eb89e7e-980a-4624-bf0d-45c1c2c9d83f",
   "metadata": {},
   "outputs": [],
   "source": [
    "batch_to_api(\"./data/openai_batches/batch_flatearth_6.jsonl\")"
   ]
  },
  {
   "cell_type": "code",
   "execution_count": 11,
   "id": "f638e890-6bf8-4886-868a-8348b273a04a",
   "metadata": {},
   "outputs": [],
   "source": [
    "with open(\"./data/openai_responses/flatearth_output.jsonl\", \"w\") as output:\n",
    "    for i in range(1, 7):\n",
    "        with open(f\"./data/openai_responses/batch_flatearth_{i}_output.jsonl\", \"r\") as inp:\n",
    "            output.write(inp.read())"
   ]
  },
  {
   "cell_type": "code",
   "execution_count": 3,
   "id": "e349a5d1-4e7a-4149-9a73-0a3ee50a5eda",
   "metadata": {},
   "outputs": [],
   "source": [
    "def stances_by_thread(data):\n",
    "    user_stances = {} # {user: {supports: 3, ...}}\n",
    "    \n",
    "    with open(data, \"r\") as f:\n",
    "        for l in f.readlines():\n",
    "            try:\n",
    "                response_text = json.loads(json.loads(l)[\"response\"][\"body\"][\"output\"][0][\"content\"][0][\"text\"])\n",
    "            except:\n",
    "                with open(\"./data/openai_responses/errors.txt\", \"a\") as err:\n",
    "                    err.write(l + \"\\n\")\n",
    "                    continue\n",
    "            for thread in response_text[\"threads\"]:\n",
    "                for user in thread[\"users\"]:\n",
    "                    username = user[\"user\"]\n",
    "                    userstance = user[\"stance\"]\n",
    "                    cur_user_stance = user_stances.get(username, {})\n",
    "                    cur_user_stance[userstance] = cur_user_stance.get(userstance, 0) + 1\n",
    "                    user_stances[username] = cur_user_stance\n",
    "    return user_stances\n",
    "\n",
    "def define_user_stance(stance_counts):\n",
    "    if stance_counts.get(\"поддерживает\", 0) == stance_counts.get(\"не поддерживает\", 0):\n",
    "        return \"невозможно определить\"\n",
    "    return \"поддерживает\" if stance_counts.get(\"поддерживает\", 0) > stance_counts.get(\"не поддерживает\", 0) else \"не поддерживает\"\n",
    "\n",
    "def make_graph(threads_by_videos, user_stances, folder_to_save):\n",
    "    nodes = set()\n",
    "    edges = set()\n",
    "    \n",
    "    reply_count = 0\n",
    "    problem_count = 0\n",
    "    for videoId, videoThreads, query in threads_by_videos:\n",
    "        videoThreads = json.loads(videoThreads)\n",
    "        users = set()\n",
    "        thread_authors = dict() # {topLevelComment: author}\n",
    "        nodes.add((videoId, \"video\", query))\n",
    "        for thread in videoThreads:\n",
    "            thread = json.loads(thread)\n",
    "            for comment in thread:\n",
    "                users.add(comment[\"authorDisplayName\"])\n",
    "                nodes.add((comment[\"authorDisplayName\"], \"user\", \"USER\"))\n",
    "                if comment[\"topLevelComment\"] == comment[\"commentId\"]:\n",
    "                    thread_authors[comment[\"topLevelComment\"]] = comment[\"authorDisplayName\"]\n",
    "                \n",
    "        for thread in videoThreads:\n",
    "            thread = json.loads(thread)\n",
    "            thread_author = thread_authors[thread[0][\"topLevelComment\"]]\n",
    "            for comment in thread:\n",
    "                if comment[\"authorDisplayName\"] == thread_author:\n",
    "                    edges.add((comment[\"authorDisplayName\"], videoId))\n",
    "                elif \"@\" not in comment[\"text\"]:\n",
    "                    edges.add((comment[\"authorDisplayName\"], thread_author))\n",
    "                else:\n",
    "                    reply_to = None\n",
    "                    for user in users:\n",
    "                        if user in comment[\"text\"]:\n",
    "                            reply_to = user\n",
    "                            break\n",
    "                    if reply_to is not None:\n",
    "                        edges.add((comment[\"authorDisplayName\"], reply_to))\n",
    "                    else:\n",
    "                        problem_count += 1\n",
    "\n",
    "    nodes = [dict(id=n[0], label=n[0], nodeType=n[1], query=n[2], stance=define_user_stance(user_stances.get(n[0], {}))) for n in nodes]\n",
    "    edges = [dict(source=e[0], target=e[1]) for e in edges]\n",
    "    \n",
    "    nodes_df = pd.DataFrame(nodes)\n",
    "    nodes_df[\"size\"] = np.where(nodes_df[\"nodeType\"] == \"video\", 20, 1)\n",
    "    nodes_df.to_csv(f\"{folder_to_save}/nodes.csv\", index=False, encoding=\"utf-8\")\n",
    "    pd.DataFrame(edges).to_csv(f\"{folder_to_save}/edges.csv\", index=False, encoding=\"utf-8\")"
   ]
  },
  {
   "cell_type": "code",
   "execution_count": 13,
   "id": "4459a295-cd15-4386-9209-19dea42a2ddd",
   "metadata": {},
   "outputs": [],
   "source": [
    "# EI-index: (E - I) / (E + I)\n",
    "# E - external connections (responses to opponents); I - internal connections (responses to group-members)\n",
    "def calculate_ei(nodes, edges):\n",
    "    merged = pd.merge(\n",
    "        edges,\n",
    "        nodes.rename(columns={\"label\": \"source\", \"stance\": \"source_stance\"}),\n",
    "        on=\"source\"\n",
    "    )[[\"target\", \"source\", \"source_stance\"]]\n",
    "    merged = pd.merge(\n",
    "        merged,\n",
    "        nodes.rename(columns={\"label\": \"target\", \"stance\": \"target_stance\"}),\n",
    "        on=\"target\"\n",
    "    )[[\"target\", \"source\", \"source_stance\", \"target_stance\"]]\n",
    "    merged = merged[(merged[\"source_stance\"] != \"невозможно определить\") & (merged[\"target_stance\"] != \"невозможно определить\")]\n",
    "    \n",
    "    reply_counts = merged.groupby(by=[\"source_stance\", \"target_stance\"]).size()\n",
    "    \n",
    "    I_support = reply_counts.loc[\"поддерживает\"][\"поддерживает\"]\n",
    "    I_oppose = reply_counts.loc[\"не поддерживает\"][\"не поддерживает\"]\n",
    "    E_support = reply_counts.loc[\"поддерживает\"][\"не поддерживает\"]\n",
    "    E_oppose = reply_counts.loc[\"не поддерживает\"][\"поддерживает\"]\n",
    "\n",
    "    print(I_support, I_oppose, E_support, E_oppose)\n",
    "    \n",
    "    EI_support = (E_support - I_support) / (E_support + I_support)\n",
    "    EI_oppose = (E_oppose - I_oppose) / (E_oppose + I_oppose)\n",
    "    return EI_support, EI_oppose"
   ]
  },
  {
   "cell_type": "code",
   "execution_count": 7,
   "id": "5b181c04-5e94-4259-ab6d-377ae1d95422",
   "metadata": {},
   "outputs": [],
   "source": [
    "chemtrails_threads = p.get_threads(\"химтрейлы\")\n",
    "chemtrails_stances = stances_by_thread(\"./data/openai_responses/batch_chemtrails_output.jsonl\")"
   ]
  },
  {
   "cell_type": "code",
   "execution_count": 102,
   "id": "64f8ac23-d419-4b45-a524-30aa929ddb2d",
   "metadata": {
    "scrolled": true
   },
   "outputs": [],
   "source": [
    "make_graph(chemtrails_threads, chemtrails_stances, \"data/gephi_chem_stances\")"
   ]
  },
  {
   "cell_type": "code",
   "execution_count": 103,
   "id": "498d1c4b-dae5-4989-9485-bd870ecb7f42",
   "metadata": {},
   "outputs": [],
   "source": [
    "chemtrails_nodes = pd.read_csv(\"./data/gephi_chem_stances/nodes.csv\")\n",
    "chemtrails_edges = pd.read_csv(\"./data/gephi_chem_stances/edges.csv\")"
   ]
  },
  {
   "cell_type": "code",
   "execution_count": 8,
   "id": "7cfc24d0-30d8-4cc8-9f7d-9a7dfcd47d0e",
   "metadata": {},
   "outputs": [],
   "source": [
    "newchron_threads = p.get_threads(\"новая хронология\")\n",
    "newchron_stances = stances_by_thread(\"./data/openai_responses/batch_newchron_1_output.jsonl\")\n",
    "make_graph(newchron_threads, newchron_stances, \"data/gephi_newchron_stances\")"
   ]
  },
  {
   "cell_type": "code",
   "execution_count": 6,
   "id": "1a0a89c5-85d1-42c2-915d-c97c7fc8d2ed",
   "metadata": {},
   "outputs": [],
   "source": [
    "newchron_nodes = pd.read_csv(\"./data/gephi_newchron_stances/nodes.csv\")\n",
    "newchron_edges = pd.read_csv(\"./data/gephi_newchron_stances/edges.csv\")"
   ]
  },
  {
   "cell_type": "code",
   "execution_count": 9,
   "id": "39fac30f-a141-46d3-a81d-6f8e77df7145",
   "metadata": {},
   "outputs": [],
   "source": [
    "flatearth_threads = p.get_threads(\"теория плоской земли\")\n",
    "flatearth_stances = stances_by_thread(\"./data/openai_responses/flatearth_output.jsonl\")\n",
    "make_graph(flatearth_threads, flatearth_stances, \"data/gephi_flatearth_stances\")"
   ]
  },
  {
   "cell_type": "code",
   "execution_count": 24,
   "id": "2f414eee-9e8c-4cd4-b971-e196d5ca0ade",
   "metadata": {},
   "outputs": [],
   "source": [
    "flatearth_nodes = pd.read_csv(\"./data/gephi_flatearth_stances/nodes.csv\")\n",
    "flatearth_edges = pd.read_csv(\"./data/gephi_flatearth_stances/edges.csv\")"
   ]
  },
  {
   "cell_type": "code",
   "execution_count": 106,
   "id": "8d6244a7-8d4d-4284-a442-e5e2bc7b829b",
   "metadata": {},
   "outputs": [
    {
     "name": "stdout",
     "output_type": "stream",
     "text": [
      "4909 1030 1236 2450\n"
     ]
    },
    {
     "data": {
      "text/plain": [
       "(-0.5977217249796583, 0.40804597701149425)"
      ]
     },
     "execution_count": 106,
     "metadata": {},
     "output_type": "execute_result"
    }
   ],
   "source": [
    "calculate_ei(chemtrails_nodes, chemtrails_edges)"
   ]
  },
  {
   "cell_type": "code",
   "execution_count": 107,
   "id": "55542c83-d492-4dc5-9d0e-466983d91a77",
   "metadata": {},
   "outputs": [
    {
     "name": "stdout",
     "output_type": "stream",
     "text": [
      "986 964 728 1306\n"
     ]
    },
    {
     "data": {
      "text/plain": [
       "(-0.15052508751458576, 0.15066079295154186)"
      ]
     },
     "execution_count": 107,
     "metadata": {},
     "output_type": "execute_result"
    }
   ],
   "source": [
    "calculate_ei(newchron_nodes, newchron_edges)"
   ]
  },
  {
   "cell_type": "code",
   "execution_count": 25,
   "id": "dc04d41d-cda5-4055-9e92-e334e5f81f39",
   "metadata": {},
   "outputs": [
    {
     "name": "stdout",
     "output_type": "stream",
     "text": [
      "4131 9262 5685 14163\n"
     ]
    },
    {
     "data": {
      "text/plain": [
       "(0.15831295843520782, 0.20922091782283886)"
      ]
     },
     "execution_count": 25,
     "metadata": {},
     "output_type": "execute_result"
    }
   ],
   "source": [
    "calculate_ei(flatearth_nodes, flatearth_edges)"
   ]
  },
  {
   "cell_type": "code",
   "execution_count": 10,
   "id": "81a4cb69-80eb-447a-ae55-0c96773ff02e",
   "metadata": {},
   "outputs": [],
   "source": [
    "defined_stances = {\n",
    "    user: define_user_stance(stance_counts) for user, stance_counts in flatearth_stances.items()\n",
    "}\n",
    "\n",
    "defined_stances = pd.DataFrame.from_dict(data=defined_stances, orient=\"index\", columns=[\"stance\"])"
   ]
  },
  {
   "cell_type": "code",
   "execution_count": 36,
   "id": "ed9f419b-3cbd-4e91-bfeb-0df45bd8212c",
   "metadata": {},
   "outputs": [],
   "source": [
    "pd.DataFrame \\\n",
    "    .from_dict(data=defined_stances, orient=\"index\", columns=[\"stance\"]) \\\n",
    "    .reset_index(names=\"user\") \\\n",
    "    .sample(300) \\\n",
    "    .to_csv(\"./data/human_labels/flatearth.csv\")"
   ]
  },
  {
   "cell_type": "code",
   "execution_count": 96,
   "id": "34d4ead7-d667-4036-836c-22d53b418260",
   "metadata": {},
   "outputs": [],
   "source": [
    "pd.read_csv(\"./data/human_labels/flatearth.csv\")[[\"user\"]].to_csv(\"./data/human_labels/flatearth_human.csv\", encoding=\"utf-16\")"
   ]
  },
  {
   "cell_type": "code",
   "execution_count": 15,
   "id": "4ca4dbfb-d3a3-42c9-89dd-3332c76bf437",
   "metadata": {},
   "outputs": [],
   "source": [
    "threads = p.get_threads(\"теория плоской земли\")"
   ]
  },
  {
   "cell_type": "code",
   "execution_count": 31,
   "id": "c5f118f8-af18-4b5c-ad90-01b89bffc6b5",
   "metadata": {},
   "outputs": [],
   "source": [
    "def user_threads(user, threads):\n",
    "    \"\"\"\n",
    "    threads returned by ParserDB.get_threads()\n",
    "    \"\"\"\n",
    "    filtered_threads = []\n",
    "\n",
    "    videos = [t[1] for t in threads if user in t[1]]\n",
    "    for video_threads in videos:\n",
    "        for thread in json.loads(video_threads):\n",
    "            if user in thread:\n",
    "                filtered_threads.append(thread)\n",
    "\n",
    "    return filtered_threads\n",
    "\n",
    "def edge_threads(source, target, threads):\n",
    "    print(f\"{source} THREADS\")\n",
    "    for thread in user_threads(source, threads):\n",
    "        print(\"START_OF_THREAD\\n\")\n",
    "        for comment in json.loads(thread):\n",
    "            print(f\"{comment[\"authorDisplayName\"]}: {comment[\"text\"]}\")\n",
    "        print(\"\\nEND_OF_THREAD\\n\\n\")\n",
    "\n",
    "    print(f\"{target} THREADS\")\n",
    "    for thread in user_threads(target, threads):\n",
    "        print(\"START_OF_THREAD\\n\")\n",
    "        for comment in json.loads(thread):\n",
    "            print(f\"{comment[\"authorDisplayName\"]}: {comment[\"text\"]}\")\n",
    "        print(\"\\nEND_OF_THREAD\\n\\n\")"
   ]
  },
  {
   "cell_type": "code",
   "execution_count": 110,
   "id": "0def02d0-59f1-49c5-bb33-e68b30750a70",
   "metadata": {},
   "outputs": [],
   "source": [
    "human = pd.read_csv(\"./data/human_labels/flatearth_human.csv\", encoding=\"utf-8\", sep=\";\")[[\"user\", \"stance\"]].rename({\"stance\": \"human_stance\"}, axis=\"columns\")\n",
    "gpt = pd.read_csv(\"./data/human_labels/flatearth.csv\", encoding=\"utf-8\", sep=\",\")[[\"user\", \"stance\"]]"
   ]
  },
  {
   "cell_type": "code",
   "execution_count": 120,
   "id": "cbe5d6ca-a43a-41bb-9a54-c047eca4cdee",
   "metadata": {},
   "outputs": [
    {
     "data": {
      "text/html": [
       "<div>\n",
       "<style scoped>\n",
       "    .dataframe tbody tr th:only-of-type {\n",
       "        vertical-align: middle;\n",
       "    }\n",
       "\n",
       "    .dataframe tbody tr th {\n",
       "        vertical-align: top;\n",
       "    }\n",
       "\n",
       "    .dataframe thead th {\n",
       "        text-align: right;\n",
       "    }\n",
       "</style>\n",
       "<table border=\"1\" class=\"dataframe\">\n",
       "  <thead>\n",
       "    <tr style=\"text-align: right;\">\n",
       "      <th></th>\n",
       "      <th>user</th>\n",
       "      <th>stance</th>\n",
       "      <th>human_stance</th>\n",
       "      <th>match</th>\n",
       "    </tr>\n",
       "  </thead>\n",
       "  <tbody>\n",
       "    <tr>\n",
       "      <th>0</th>\n",
       "      <td>@Kalinet-music</td>\n",
       "      <td>невозможно определить</td>\n",
       "      <td>невозможно определить</td>\n",
       "      <td>True</td>\n",
       "    </tr>\n",
       "    <tr>\n",
       "      <th>1</th>\n",
       "      <td>@zamanium7517</td>\n",
       "      <td>не поддерживает</td>\n",
       "      <td>невозможно определить</td>\n",
       "      <td>False</td>\n",
       "    </tr>\n",
       "    <tr>\n",
       "      <th>2</th>\n",
       "      <td>@Dark_Straylight</td>\n",
       "      <td>невозможно определить</td>\n",
       "      <td>невозможно определить</td>\n",
       "      <td>True</td>\n",
       "    </tr>\n",
       "    <tr>\n",
       "      <th>3</th>\n",
       "      <td>@Infanta_</td>\n",
       "      <td>невозможно определить</td>\n",
       "      <td>невозможно определить</td>\n",
       "      <td>True</td>\n",
       "    </tr>\n",
       "    <tr>\n",
       "      <th>4</th>\n",
       "      <td>@Gijs-t7p</td>\n",
       "      <td>невозможно определить</td>\n",
       "      <td>невозможно определить</td>\n",
       "      <td>True</td>\n",
       "    </tr>\n",
       "    <tr>\n",
       "      <th>...</th>\n",
       "      <td>...</td>\n",
       "      <td>...</td>\n",
       "      <td>...</td>\n",
       "      <td>...</td>\n",
       "    </tr>\n",
       "    <tr>\n",
       "      <th>195</th>\n",
       "      <td>@darionmogrein6763</td>\n",
       "      <td>невозможно определить</td>\n",
       "      <td>поддерживает</td>\n",
       "      <td>False</td>\n",
       "    </tr>\n",
       "    <tr>\n",
       "      <th>196</th>\n",
       "      <td>@KneeNinja1</td>\n",
       "      <td>не поддерживает</td>\n",
       "      <td>невозможно определить</td>\n",
       "      <td>False</td>\n",
       "    </tr>\n",
       "    <tr>\n",
       "      <th>197</th>\n",
       "      <td>@ГалинаБуза</td>\n",
       "      <td>поддерживает</td>\n",
       "      <td>поддерживает</td>\n",
       "      <td>True</td>\n",
       "    </tr>\n",
       "    <tr>\n",
       "      <th>198</th>\n",
       "      <td>@MarinaMamaladze-s8k</td>\n",
       "      <td>не поддерживает</td>\n",
       "      <td>не поддерживает</td>\n",
       "      <td>True</td>\n",
       "    </tr>\n",
       "    <tr>\n",
       "      <th>199</th>\n",
       "      <td>@joanclopik7010</td>\n",
       "      <td>не поддерживает</td>\n",
       "      <td>не поддерживает</td>\n",
       "      <td>True</td>\n",
       "    </tr>\n",
       "  </tbody>\n",
       "</table>\n",
       "<p>200 rows × 4 columns</p>\n",
       "</div>"
      ],
      "text/plain": [
       "                     user                 stance           human_stance  match\n",
       "0          @Kalinet-music  невозможно определить  невозможно определить   True\n",
       "1           @zamanium7517        не поддерживает  невозможно определить  False\n",
       "2        @Dark_Straylight  невозможно определить  невозможно определить   True\n",
       "3               @Infanta_  невозможно определить  невозможно определить   True\n",
       "4               @Gijs-t7p  невозможно определить  невозможно определить   True\n",
       "..                    ...                    ...                    ...    ...\n",
       "195    @darionmogrein6763  невозможно определить           поддерживает  False\n",
       "196           @KneeNinja1        не поддерживает  невозможно определить  False\n",
       "197           @ГалинаБуза           поддерживает           поддерживает   True\n",
       "198  @MarinaMamaladze-s8k        не поддерживает        не поддерживает   True\n",
       "199       @joanclopik7010        не поддерживает        не поддерживает   True\n",
       "\n",
       "[200 rows x 4 columns]"
      ]
     },
     "execution_count": 120,
     "metadata": {},
     "output_type": "execute_result"
    }
   ],
   "source": [
    "m = pd.merge(gpt, human, on=\"user\")\n",
    "m[\"match\"] = m.stance == m.human_stance\n",
    "m"
   ]
  },
  {
   "cell_type": "code",
   "execution_count": 122,
   "id": "5ac99990-d567-4739-a656-0c6df0405a9e",
   "metadata": {},
   "outputs": [
    {
     "data": {
      "text/plain": [
       "0.745"
      ]
     },
     "execution_count": 122,
     "metadata": {},
     "output_type": "execute_result"
    }
   ],
   "source": [
    "m.match.sum() / len(m)"
   ]
  },
  {
   "cell_type": "code",
   "execution_count": 124,
   "id": "37b69a13-0740-443c-a93e-2aefaaa181f5",
   "metadata": {},
   "outputs": [
    {
     "data": {
      "text/plain": [
       "human_stance\n",
       "не поддерживает          0.680851\n",
       "невозможно определить    0.743363\n",
       "поддерживает             0.825000\n",
       "Name: match, dtype: float64"
      ]
     },
     "execution_count": 124,
     "metadata": {},
     "output_type": "execute_result"
    }
   ],
   "source": [
    "# accuracy\n",
    "m.groupby(\"human_stance\")[\"match\"].sum() / m.groupby(\"human_stance\")[\"match\"].size()"
   ]
  },
  {
   "cell_type": "code",
   "execution_count": 130,
   "id": "c6754452-f8b2-438a-94ad-4d8aba5e1a78",
   "metadata": {},
   "outputs": [
    {
     "name": "stdout",
     "output_type": "stream",
     "text": [
      "Класс: поддерживает\n",
      "TP: 33, FP: 17, TN: 143, FN: 7\n",
      "Precision: 0.66, Recall: 0.82\n",
      "\n",
      "Класс: не поддерживает\n",
      "TP: 32, FP: 22, TN: 131, FN: 15\n",
      "Precision: 0.59, Recall: 0.68\n",
      "\n",
      "Класс: невозможно определить\n",
      "TP: 84, FP: 12, TN: 75, FN: 29\n",
      "Precision: 0.88, Recall: 0.74\n",
      "\n"
     ]
    }
   ],
   "source": [
    "classes = [\"поддерживает\", \"не поддерживает\", \"невозможно определить\"]\n",
    "\n",
    "def calculate_metrics(df, true_col, pred_col, target_class):\n",
    "    TP = ((df[true_col] == target_class) & (df[pred_col] == target_class)).sum()\n",
    "    FP = ((df[pred_col] == target_class) & (df[true_col] != target_class)).sum()\n",
    "    TN = ((df[true_col] != target_class) & (df[pred_col] != target_class)).sum()\n",
    "    FN = ((df[true_col] == target_class) & (df[pred_col] != target_class)).sum()\n",
    "    return TP, FP, TN, FN\n",
    "\n",
    "for class_name in classes:\n",
    "    TP, FP, TN, FN = calculate_metrics(m, \"human_stance\", \"stance\", class_name)\n",
    "    print(f\"Класс: {class_name}\")\n",
    "    print(f\"TP: {TP}, FP: {FP}, TN: {TN}, FN: {FN}\")\n",
    "    print(f\"Precision: {TP / (TP + FP):.2f}, Recall: {TP / (TP + FN):.2f}\\n\")"
   ]
  },
  {
   "cell_type": "code",
   "execution_count": 36,
   "id": "4a3b3284-f79d-4ffd-a736-0b7584a9154a",
   "metadata": {},
   "outputs": [],
   "source": [
    "def sample_edges(theory_name):\n",
    "    edges_sample = pd.read_csv(f\"./data/gephi_{theory_name}_stances/edges.csv\")\n",
    "    nodes = pd.read_csv(f\"./data/gephi_{theory_name}_stances/nodes.csv\")\n",
    "    \n",
    "    edges_sample = pd.merge(\n",
    "        edges_sample,\n",
    "        nodes,\n",
    "        left_on=\"source\", right_on=\"label\"\n",
    "    ).rename({\"stance\": \"source_stance\"}, axis=\"columns\")[[\"source\", \"target\", \"source_stance\"]]\n",
    "    edges_sample = pd.merge(\n",
    "        edges_sample,\n",
    "        nodes,\n",
    "        left_on=\"target\", right_on=\"label\"\n",
    "    ).rename({\"stance\": \"target_stance\"}, axis=\"columns\")[[\"source\", \"target\", \"source_stance\", \"target_stance\"]]\n",
    "    \n",
    "    edges_sample = edges_sample[(edges_sample[\"source_stance\"] != \"невозможно определить\") & (edges_sample[\"target_stance\"] != \"невозможно определить\")]\n",
    "    edges_sample = edges_sample.sample(300)\n",
    "    edges_sample.to_csv(f\"./data/human_labels/{theory_name}_edges.csv\", encoding=\"utf-16\", sep=\",\")\n",
    "    edges_sample[[\"source\", \"target\"]].to_csv(f\"./data/human_labels/{theory_name}_edges_human.csv\", encoding=\"utf-16\", sep=\",\")\n",
    "    return edges_sample"
   ]
  },
  {
   "cell_type": "code",
   "execution_count": 37,
   "id": "2dbb4770-1ad2-42df-8bf4-deb19626f7f8",
   "metadata": {},
   "outputs": [],
   "source": [
    "edges_chem = sample_edges(\"chem\")\n",
    "edges_newchron = sample_edges(\"newchron\")"
   ]
  },
  {
   "cell_type": "code",
   "execution_count": 19,
   "id": "7411e223-5e11-4ad9-ab8b-2cc0433a78d4",
   "metadata": {},
   "outputs": [],
   "source": [
    "threads_chem = p.get_threads(\"химтрейлы\")\n",
    "threads_newchron = p.get_threads(\"новая хронология\")"
   ]
  },
  {
   "cell_type": "code",
   "execution_count": null,
   "id": "e3472a10-892a-4843-9271-8260c0988cf1",
   "metadata": {},
   "outputs": [],
   "source": [
    "for i, row in enumerate(edges_chem.iterrows()):\n",
    "    if i not in range(0, 10): continue\n",
    "    try:\n",
    "        edge_threads(row[1].source, row[1].target, threads_chem)\n",
    "    except:\n",
    "        print(row)"
   ]
  },
  {
   "cell_type": "code",
   "execution_count": null,
   "id": "5d960a74-9819-4157-9437-84088a2b4263",
   "metadata": {},
   "outputs": [],
   "source": [
    "for thread in user_threads(\"@ВячеславПодгорнов-о4и\", threads_newchron):\n",
    "        print(\"START_OF_THREAD\\n\")\n",
    "        for comment in json.loads(thread):\n",
    "            print(f\"{comment[\"authorDisplayName\"]}: {comment[\"text\"]}\")\n",
    "        print(\"\\nEND_OF_THREAD\\n\\n\")"
   ]
  },
  {
   "cell_type": "code",
   "execution_count": 166,
   "id": "af0e5035-78fa-4cd7-b9bc-afde6c119d19",
   "metadata": {},
   "outputs": [
    {
     "data": {
      "text/plain": [
       "72"
      ]
     },
     "execution_count": 166,
     "metadata": {},
     "output_type": "execute_result"
    }
   ],
   "source": [
    "edges_human_flat = pd.read_csv(\"./data/human_labels/flatearth_edges_human.csv\", sep=\";\", encoding=\"cp1251\")\n",
    "edges_gpt_flat = pd.read_csv(\"./data/human_labels/flatearth_edges.csv\", sep=\",\", encoding=\"utf-16\")\n",
    "\n",
    "edges_merged_flat = pd.merge(\n",
    "    edges_gpt_flat,\n",
    "    edges_human_flat.rename({\"source_stance\": \"source_stance_human\", \"target_stance\": \"target_stance_human\"}, axis=\"columns\"),\n",
    "    on=[\"source\", \"target\"]\n",
    ")[[\"source\", \"target\", \"source_stance\", \"source_stance_human\", \"target_stance\", \"target_stance_human\"]].dropna()\n",
    "\n",
    "((edges_merged_flat[\"source_stance\"] == edges_merged_flat[\"source_stance_human\"]) & (edges_merged_flat[\"target_stance\"] == edges_merged_flat[\"target_stance_human\"])).sum()"
   ]
  },
  {
   "cell_type": "code",
   "execution_count": 170,
   "id": "1df76dc0-eab7-413d-811b-0d83c848bcf8",
   "metadata": {},
   "outputs": [
    {
     "data": {
      "text/plain": [
       "80"
      ]
     },
     "execution_count": 170,
     "metadata": {},
     "output_type": "execute_result"
    }
   ],
   "source": [
    "edges_human_chem = pd.read_csv(\"./data/human_labels/chem_edges_human.csv\", sep=\";\", encoding=\"cp1251\")\n",
    "edges_gpt_chem = pd.read_csv(\"./data/human_labels/chem_edges.csv\", sep=\",\", encoding=\"utf-16\")\n",
    "\n",
    "edges_merged_chem = pd.merge(\n",
    "    edges_gpt_chem,\n",
    "    edges_human_chem.rename({\"source_stance\": \"source_stance_human\", \"target_stance\": \"target_stance_human\"}, axis=\"columns\"),\n",
    "    on=[\"source\", \"target\"]\n",
    ")[[\"source\", \"target\", \"source_stance\", \"source_stance_human\", \"target_stance\", \"target_stance_human\"]].dropna()\n",
    "\n",
    "((edges_merged_chem[\"source_stance\"] == edges_merged_chem[\"source_stance_human\"]) & (edges_merged_chem[\"target_stance\"] == edges_merged_chem[\"target_stance_human\"])).sum()"
   ]
  },
  {
   "cell_type": "code",
   "execution_count": 229,
   "id": "88b5850f-e994-4f54-a862-dbe746802925",
   "metadata": {},
   "outputs": [
    {
     "data": {
      "text/plain": [
       "64"
      ]
     },
     "execution_count": 229,
     "metadata": {},
     "output_type": "execute_result"
    }
   ],
   "source": [
    "edges_human_newchron = pd.read_csv(\"./data/human_labels/newchron_edges_human.csv\", sep=\";\", encoding=\"cp1251\")\n",
    "edges_gpt_newchron = pd.read_csv(\"./data/human_labels/newchron_edges.csv\", sep=\",\", encoding=\"utf-16\")\n",
    "\n",
    "edges_merged_newchron = pd.merge(\n",
    "    edges_gpt_newchron,\n",
    "    edges_human_newchron.rename({\"source_stance\": \"source_stance_human\", \"target_stance\": \"target_stance_human\"}, axis=\"columns\"),\n",
    "    on=[\"source\", \"target\"]\n",
    ")[[\"source\", \"target\", \"source_stance\", \"source_stance_human\", \"target_stance\", \"target_stance_human\"]].dropna()\n",
    "\n",
    "((edges_merged_newchron[\"source_stance\"] == edges_merged_newchron[\"source_stance_human\"]) & (edges_merged_newchron[\"target_stance\"] == edges_merged_newchron[\"target_stance_human\"])).sum() * 2"
   ]
  }
 ],
 "metadata": {
  "kernelspec": {
   "display_name": "Python 3 (ipykernel)",
   "language": "python",
   "name": "python3"
  },
  "language_info": {
   "codemirror_mode": {
    "name": "ipython",
    "version": 3
   },
   "file_extension": ".py",
   "mimetype": "text/x-python",
   "name": "python",
   "nbconvert_exporter": "python",
   "pygments_lexer": "ipython3",
   "version": "3.12.6"
  }
 },
 "nbformat": 4,
 "nbformat_minor": 5
}
