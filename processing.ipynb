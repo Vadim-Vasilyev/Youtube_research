{
 "cells": [
  {
   "cell_type": "code",
   "execution_count": 1,
   "id": "9fc78ba4-5464-4a5f-b000-f00030317aef",
   "metadata": {},
   "outputs": [],
   "source": [
    "%load_ext autoreload\n",
    "%autoreload 2"
   ]
  },
  {
   "cell_type": "code",
   "execution_count": 2,
   "id": "e59b8da6-3f2e-49d8-8e6f-4b84ab2727fa",
   "metadata": {},
   "outputs": [],
   "source": [
    "# !pip install OpenAI\n",
    "import json\n",
    "import pandas as pd\n",
    "import numpy as np\n",
    "from ParserDB import ParserDB"
   ]
  },
  {
   "cell_type": "code",
   "execution_count": 3,
   "id": "e349a5d1-4e7a-4149-9a73-0a3ee50a5eda",
   "metadata": {},
   "outputs": [],
   "source": [
    "def stances_by_thread(data):\n",
    "    user_stances = {} # {user: {supports: 3, ...}}\n",
    "    \n",
    "    with open(data, \"r\") as f:\n",
    "        for l in f.readlines():\n",
    "            response_text = json.loads(json.loads(l)[\"response\"][\"body\"][\"output\"][0][\"content\"][0][\"text\"])\n",
    "            for thread in response_text[\"threads\"]:\n",
    "                for user in thread[\"users\"]:\n",
    "                    username = user[\"user\"]\n",
    "                    userstance = user[\"stance\"]\n",
    "                    cur_user_stance = user_stances.get(username, {})\n",
    "                    cur_user_stance[userstance] = cur_user_stance.get(userstance, 0) + 1\n",
    "                    user_stances[username] = cur_user_stance\n",
    "    return user_stances\n",
    "\n",
    "def define_user_stance(stance_counts):\n",
    "    if stance_counts.get(\"поддерживает\", 0) == stance_counts.get(\"не поддерживает\", 0):\n",
    "        return \"невозможно определить\"\n",
    "    return \"поддерживает\" if stance_counts.get(\"поддерживает\", 0) > stance_counts.get(\"не поддерживает\", 0) else \"не поддерживает\"\n",
    "\n",
    "def make_graph(threads_by_videos, user_stances, folder_to_save):\n",
    "    nodes = set()\n",
    "    edges = set()\n",
    "    \n",
    "    reply_count = 0\n",
    "    problem_count = 0\n",
    "    for videoId, videoThreads, query in threads_by_videos:\n",
    "        videoThreads = json.loads(videoThreads)\n",
    "        users = set()\n",
    "        thread_authors = dict() # {topLevelComment: author}\n",
    "        nodes.add((videoId, \"video\", query))\n",
    "        for thread in videoThreads:\n",
    "            thread = json.loads(thread)\n",
    "            for comment in thread:\n",
    "                users.add(comment[\"authorDisplayName\"])\n",
    "                nodes.add((comment[\"authorDisplayName\"], \"user\", \"USER\"))\n",
    "                if comment[\"topLevelComment\"] == comment[\"commentId\"]:\n",
    "                    thread_authors[comment[\"topLevelComment\"]] = comment[\"authorDisplayName\"]\n",
    "                \n",
    "        for thread in videoThreads:\n",
    "            thread = json.loads(thread)\n",
    "            thread_author = thread_authors[thread[0][\"topLevelComment\"]]\n",
    "            for comment in thread:\n",
    "                if comment[\"authorDisplayName\"] == thread_author:\n",
    "                    edges.add((comment[\"authorDisplayName\"], videoId))\n",
    "                elif \"@\" not in comment[\"text\"]:\n",
    "                    edges.add((comment[\"authorDisplayName\"], thread_author))\n",
    "                else:\n",
    "                    reply_to = None\n",
    "                    for user in users:\n",
    "                        if user in comment[\"text\"]:\n",
    "                            reply_to = user\n",
    "                            break\n",
    "                    if reply_to is not None:\n",
    "                        edges.add((comment[\"authorDisplayName\"], reply_to))\n",
    "                    else:\n",
    "                        problem_count += 1\n",
    "\n",
    "    nodes = [dict(id=n[0], label=n[0], nodeType=n[1], query=n[2], stance=define_user_stance(user_stances.get(n[0], {}))) for n in nodes]\n",
    "    edges = [dict(source=e[0], target=e[1]) for e in edges]\n",
    "    \n",
    "    nodes_df = pd.DataFrame(nodes)\n",
    "    nodes_df[\"size\"] = np.where(nodes_df[\"nodeType\"] == \"video\", 20, 1)\n",
    "    nodes_df.to_csv(f\"{folder_to_save}/nodes.csv\", index=False, encoding=\"utf-8\")\n",
    "    pd.DataFrame(edges).to_csv(f\"{folder_to_save}/edges.csv\", index=False, encoding=\"utf-8\")"
   ]
  },
  {
   "cell_type": "code",
   "execution_count": 4,
   "id": "5b181c04-5e94-4259-ab6d-377ae1d95422",
   "metadata": {},
   "outputs": [],
   "source": [
    "p = ParserDB(api_key_file=\"./data/data_json/api_token.txt\", database=\"./data/data.db\")\n",
    "chemtrails_threads = p.get_threads(\"химтрейлы\")\n",
    "chemtrails_stances = stances_by_thread(\"./data/openai_responses/batch_chemtrails_output.jsonl\")"
   ]
  },
  {
   "cell_type": "code",
   "execution_count": 5,
   "id": "64f8ac23-d419-4b45-a524-30aa929ddb2d",
   "metadata": {
    "scrolled": true
   },
   "outputs": [],
   "source": [
    "make_graph(chemtrails_threads, chemtrails_stances, \"data/gephi_chem_stances\")"
   ]
  }
 ],
 "metadata": {
  "kernelspec": {
   "display_name": "Python 3 (ipykernel)",
   "language": "python",
   "name": "python3"
  },
  "language_info": {
   "codemirror_mode": {
    "name": "ipython",
    "version": 3
   },
   "file_extension": ".py",
   "mimetype": "text/x-python",
   "name": "python",
   "nbconvert_exporter": "python",
   "pygments_lexer": "ipython3",
   "version": "3.12.6"
  }
 },
 "nbformat": 4,
 "nbformat_minor": 5
}
